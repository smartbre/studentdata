{
 "cells": [
  {
   "cell_type": "code",
   "execution_count": 1,
   "id": "e71483dc",
   "metadata": {},
   "outputs": [],
   "source": [
    "# importing pandas as pd\n",
    "import pandas as pd"
   ]
  },
  {
   "cell_type": "code",
   "execution_count": 16,
   "id": "5b575814",
   "metadata": {},
   "outputs": [
    {
     "data": {
      "text/plain": [
       "['RH K-4 MOY Data',\n",
       " 'MOY Export',\n",
       " 'Syracuse',\n",
       " 'Howard',\n",
       " 'Swarthmore',\n",
       " 'Spelman',\n",
       " 'Williams',\n",
       " 'Brooklyn',\n",
       " 'Tuskegee',\n",
       " 'Northwestern',\n",
       " 'Georgetown',\n",
       " 'Wisconsin']"
      ]
     },
     "execution_count": 16,
     "metadata": {},
     "output_type": "execute_result"
    }
   ],
   "source": [
    "# reading ExcelFile.\n",
    "xls = pd.ExcelFile('Data.xlsx')\n",
    "\n",
    "# preview of sheet names.\n",
    "xls.sheet_names"
   ]
  },
  {
   "cell_type": "code",
   "execution_count": 17,
   "id": "71d74187",
   "metadata": {},
   "outputs": [
    {
     "data": {
      "text/plain": [
       "(274, 17)"
      ]
     },
     "execution_count": 17,
     "metadata": {},
     "output_type": "execute_result"
    }
   ],
   "source": [
    "df = pd.concat(pd.read_excel(xls, sheet_name=xls.sheet_names[2:]), ignore_index=True)\n",
    "df.shape"
   ]
  },
  {
   "cell_type": "code",
   "execution_count": 18,
   "id": "9c06d94b",
   "metadata": {},
   "outputs": [
    {
     "name": "stdout",
     "output_type": "stream",
     "text": [
      "<class 'pandas.core.frame.DataFrame'>\n",
      "RangeIndex: 274 entries, 0 to 273\n",
      "Data columns (total 17 columns):\n",
      " #   Column                Non-Null Count  Dtype  \n",
      "---  ------                --------------  -----  \n",
      " 0   Student_ Number       274 non-null    float64\n",
      " 1   Grade_Level           274 non-null    float64\n",
      " 2   Home_room             274 non-null    object \n",
      " 3   BOY Indep Level       273 non-null    object \n",
      " 4    Grade Level Equiv    259 non-null    float64\n",
      " 5    Inst Level           187 non-null    object \n",
      " 6    Grade Level Equiv.1  274 non-null    object \n",
      " 7   MOY Indep Level       271 non-null    object \n",
      " 8    Grade Level Equiv.2  274 non-null    object \n",
      " 9    Inst Level.1         264 non-null    object \n",
      " 10   Grade Level Equiv.3  254 non-null    object \n",
      " 11   Accuracy (%)         218 non-null    float64\n",
      " 12   Fluency (0-3)        232 non-null    float64\n",
      " 13   Comp Within (0-3)    251 non-null    float64\n",
      " 14   Comp Beyond (0-3)    249 non-null    float64\n",
      " 15   Comp About           132 non-null    object \n",
      " 16   Total Comp           274 non-null    float64\n",
      "dtypes: float64(8), object(9)\n",
      "memory usage: 36.5+ KB\n"
     ]
    }
   ],
   "source": [
    "# previewing df\n",
    "df.info()"
   ]
  },
  {
   "cell_type": "markdown",
   "id": "d0932a66",
   "metadata": {},
   "source": [
    "A couple of noticings:\n",
    "\n",
    "* The column names are inconsistently formatted and need to be cleaned.\n",
    "* Some numerical columns need to be casted as such.\n",
    "* Since the Non-null values are not consistent, further investigation is needed."
   ]
  },
  {
   "cell_type": "code",
   "execution_count": 19,
   "id": "10abdc64",
   "metadata": {},
   "outputs": [],
   "source": [
    "# removing spaces and special characters from column names \n",
    "df.columns = df.columns.str.strip()\n",
    "df.columns = df.columns.str.replace('_',' ')\n",
    "\n",
    "df.insert(1,'Student Number', 'Student  Number')\n",
    "df.insert(2,'Homeroom', 'Home room')\n",
    "\n",
    "# columns to drop\n",
    "drop_cols = ['Home room','Student  Number']\n",
    "# drop columns\n",
    "df.drop(drop_cols, axis=1, inplace=True)"
   ]
  },
  {
   "cell_type": "code",
   "execution_count": 20,
   "id": "03508a6d",
   "metadata": {},
   "outputs": [
    {
     "name": "stdout",
     "output_type": "stream",
     "text": [
      "<class 'pandas.core.frame.DataFrame'>\n",
      "RangeIndex: 274 entries, 0 to 273\n",
      "Data columns (total 17 columns):\n",
      " #   Column               Non-Null Count  Dtype  \n",
      "---  ------               --------------  -----  \n",
      " 0   Student Number       274 non-null    object \n",
      " 1   Homeroom             274 non-null    object \n",
      " 2   Grade Level          274 non-null    float64\n",
      " 3   BOY Indep Level      273 non-null    object \n",
      " 4   Grade Level Equiv    259 non-null    float64\n",
      " 5   Inst Level           187 non-null    object \n",
      " 6   Grade Level Equiv.1  274 non-null    object \n",
      " 7   MOY Indep Level      271 non-null    object \n",
      " 8   Grade Level Equiv.2  274 non-null    object \n",
      " 9   Inst Level.1         264 non-null    object \n",
      " 10  Grade Level Equiv.3  254 non-null    object \n",
      " 11  Accuracy (%)         218 non-null    float64\n",
      " 12  Fluency (0-3)        232 non-null    float64\n",
      " 13  Comp Within (0-3)    251 non-null    float64\n",
      " 14  Comp Beyond (0-3)    249 non-null    float64\n",
      " 15  Comp About           132 non-null    object \n",
      " 16  Total Comp           274 non-null    float64\n",
      "dtypes: float64(7), object(10)\n",
      "memory usage: 36.5+ KB\n"
     ]
    }
   ],
   "source": [
    "df.info()"
   ]
  },
  {
   "cell_type": "code",
   "execution_count": 17,
   "id": "71674f68",
   "metadata": {},
   "outputs": [],
   "source": [
    "# changing data to numerical type\n",
    "df[['Grade Level Equiv.1','Grade Level Equiv.2','Grade Level Equiv.3']] = df[['Grade Level Equiv.1','Grade Level Equiv.2','Grade Level Equiv.3']].apply(pd.to_numeric, errors='coerce')"
   ]
  },
  {
   "cell_type": "code",
   "execution_count": 18,
   "id": "abad4d94",
   "metadata": {},
   "outputs": [
    {
     "name": "stdout",
     "output_type": "stream",
     "text": [
      "<class 'pandas.core.frame.DataFrame'>\n",
      "RangeIndex: 274 entries, 0 to 273\n",
      "Data columns (total 17 columns):\n",
      " #   Column               Non-Null Count  Dtype  \n",
      "---  ------               --------------  -----  \n",
      " 0   Student Number       274 non-null    object \n",
      " 1   Homeroom             274 non-null    object \n",
      " 2   Grade Level          274 non-null    float64\n",
      " 3   BOY Indep Level      273 non-null    object \n",
      " 4   Grade Level Equiv    259 non-null    float64\n",
      " 5   Inst Level           187 non-null    object \n",
      " 6   Grade Level Equiv.1  173 non-null    float64\n",
      " 7   MOY Indep Level      271 non-null    object \n",
      " 8   Grade Level Equiv.2  234 non-null    float64\n",
      " 9   Inst Level.1         264 non-null    object \n",
      " 10  Grade Level Equiv.3  248 non-null    float64\n",
      " 11  Accuracy (%)         218 non-null    float64\n",
      " 12  Fluency (0-3)        232 non-null    float64\n",
      " 13  Comp Within (0-3)    251 non-null    float64\n",
      " 14  Comp Beyond (0-3)    249 non-null    float64\n",
      " 15  Comp About           132 non-null    object \n",
      " 16  Total Comp           274 non-null    float64\n",
      "dtypes: float64(10), object(7)\n",
      "memory usage: 36.5+ KB\n"
     ]
    }
   ],
   "source": [
    "df.info()"
   ]
  },
  {
   "cell_type": "code",
   "execution_count": 19,
   "id": "25be6081",
   "metadata": {},
   "outputs": [
    {
     "data": {
      "text/plain": [
       "Student Number           0\n",
       "Homeroom                 0\n",
       "Grade Level              0\n",
       "BOY Indep Level          1\n",
       "Grade Level Equiv       15\n",
       "Inst Level              87\n",
       "Grade Level Equiv.1    101\n",
       "MOY Indep Level          3\n",
       "Grade Level Equiv.2     40\n",
       "Inst Level.1            10\n",
       "Grade Level Equiv.3     26\n",
       "Accuracy (%)            56\n",
       "Fluency (0-3)           42\n",
       "Comp Within (0-3)       23\n",
       "Comp Beyond (0-3)       25\n",
       "Comp About             142\n",
       "Total Comp               0\n",
       "dtype: int64"
      ]
     },
     "execution_count": 19,
     "metadata": {},
     "output_type": "execute_result"
    }
   ],
   "source": [
    "# get summary of missing values\n",
    "df.isna().sum()"
   ]
  },
  {
   "cell_type": "markdown",
   "id": "7fc49ae2",
   "metadata": {},
   "source": [
    "For BOY and MOY missing data, I will use the key provided with this analysis."
   ]
  },
  {
   "cell_type": "code",
   "execution_count": null,
   "id": "85d04743",
   "metadata": {},
   "outputs": [],
   "source": []
  }
 ],
 "metadata": {
  "kernelspec": {
   "display_name": "Python 3 (ipykernel)",
   "language": "python",
   "name": "python3"
  },
  "language_info": {
   "codemirror_mode": {
    "name": "ipython",
    "version": 3
   },
   "file_extension": ".py",
   "mimetype": "text/x-python",
   "name": "python",
   "nbconvert_exporter": "python",
   "pygments_lexer": "ipython3",
   "version": "3.8.12"
  }
 },
 "nbformat": 4,
 "nbformat_minor": 5
}
