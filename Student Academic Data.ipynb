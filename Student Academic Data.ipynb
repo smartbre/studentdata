{
 "cells": [
  {
   "cell_type": "code",
   "execution_count": 6,
   "id": "e71483dc",
   "metadata": {},
   "outputs": [],
   "source": [
    "# Importing necessary libraries\n",
    "import pandas as pd\n",
    "import numpy as np"
   ]
  },
  {
   "cell_type": "code",
   "execution_count": 2,
   "id": "5b575814",
   "metadata": {},
   "outputs": [
    {
     "data": {
      "text/plain": [
       "['RH K-4 MOY Data',\n",
       " 'MOY Export',\n",
       " 'Syracuse',\n",
       " 'Howard',\n",
       " 'Swarthmore',\n",
       " 'Spelman',\n",
       " 'Williams',\n",
       " 'Brooklyn',\n",
       " 'Tuskegee',\n",
       " 'Northwestern',\n",
       " 'Georgetown',\n",
       " 'Wisconsin']"
      ]
     },
     "execution_count": 2,
     "metadata": {},
     "output_type": "execute_result"
    }
   ],
   "source": [
    "# Reading ExcelFile.\n",
    "xls = pd.ExcelFile('Data.xlsx')\n",
    "\n",
    "# Previewing sheet names inside excel file.\n",
    "xls.sheet_names"
   ]
  },
  {
   "cell_type": "code",
   "execution_count": 3,
   "id": "71d74187",
   "metadata": {},
   "outputs": [
    {
     "name": "stdout",
     "output_type": "stream",
     "text": [
      "(274, 17)\n"
     ]
    },
    {
     "data": {
      "text/html": [
       "<div>\n",
       "<style scoped>\n",
       "    .dataframe tbody tr th:only-of-type {\n",
       "        vertical-align: middle;\n",
       "    }\n",
       "\n",
       "    .dataframe tbody tr th {\n",
       "        vertical-align: top;\n",
       "    }\n",
       "\n",
       "    .dataframe thead th {\n",
       "        text-align: right;\n",
       "    }\n",
       "</style>\n",
       "<table border=\"1\" class=\"dataframe\">\n",
       "  <thead>\n",
       "    <tr style=\"text-align: right;\">\n",
       "      <th></th>\n",
       "      <th>Student_ Number</th>\n",
       "      <th>Grade_Level</th>\n",
       "      <th>Home_room</th>\n",
       "      <th>BOY Indep Level</th>\n",
       "      <th>Grade Level Equiv</th>\n",
       "      <th>Inst Level</th>\n",
       "      <th>Grade Level Equiv.1</th>\n",
       "      <th>MOY Indep Level</th>\n",
       "      <th>Grade Level Equiv.2</th>\n",
       "      <th>Inst Level.1</th>\n",
       "      <th>Grade Level Equiv.3</th>\n",
       "      <th>Accuracy (%)</th>\n",
       "      <th>Fluency (0-3)</th>\n",
       "      <th>Comp Within (0-3)</th>\n",
       "      <th>Comp Beyond (0-3)</th>\n",
       "      <th>Comp About</th>\n",
       "      <th>Total Comp</th>\n",
       "    </tr>\n",
       "  </thead>\n",
       "  <tbody>\n",
       "    <tr>\n",
       "      <th>0</th>\n",
       "      <td>236563003.0</td>\n",
       "      <td>0.0</td>\n",
       "      <td>Syracuse</td>\n",
       "      <td>AA</td>\n",
       "      <td>-0.25</td>\n",
       "      <td>NaN</td>\n",
       "      <td></td>\n",
       "      <td>AA</td>\n",
       "      <td>-0.25</td>\n",
       "      <td>A</td>\n",
       "      <td>0.0</td>\n",
       "      <td>88.0</td>\n",
       "      <td>1.0</td>\n",
       "      <td>3.0</td>\n",
       "      <td>2.0</td>\n",
       "      <td>NaN</td>\n",
       "      <td>5.0</td>\n",
       "    </tr>\n",
       "    <tr>\n",
       "      <th>1</th>\n",
       "      <td>238194344.0</td>\n",
       "      <td>0.0</td>\n",
       "      <td>Syracuse</td>\n",
       "      <td>AA</td>\n",
       "      <td>-0.25</td>\n",
       "      <td>NaN</td>\n",
       "      <td></td>\n",
       "      <td>AA</td>\n",
       "      <td>-0.25</td>\n",
       "      <td>A</td>\n",
       "      <td>0.0</td>\n",
       "      <td>97.0</td>\n",
       "      <td>2.0</td>\n",
       "      <td>2.0</td>\n",
       "      <td>1.0</td>\n",
       "      <td>NaN</td>\n",
       "      <td>3.0</td>\n",
       "    </tr>\n",
       "    <tr>\n",
       "      <th>2</th>\n",
       "      <td>239980246.0</td>\n",
       "      <td>0.0</td>\n",
       "      <td>Syracuse</td>\n",
       "      <td>AA</td>\n",
       "      <td>-0.25</td>\n",
       "      <td>NaN</td>\n",
       "      <td></td>\n",
       "      <td>AA</td>\n",
       "      <td>-0.25</td>\n",
       "      <td>A</td>\n",
       "      <td>0.0</td>\n",
       "      <td>33.0</td>\n",
       "      <td>2.0</td>\n",
       "      <td>1.0</td>\n",
       "      <td>2.0</td>\n",
       "      <td>NaN</td>\n",
       "      <td>3.0</td>\n",
       "    </tr>\n",
       "    <tr>\n",
       "      <th>3</th>\n",
       "      <td>240845834.0</td>\n",
       "      <td>0.0</td>\n",
       "      <td>Syracuse</td>\n",
       "      <td>AA</td>\n",
       "      <td>-0.25</td>\n",
       "      <td>NaN</td>\n",
       "      <td></td>\n",
       "      <td>AA</td>\n",
       "      <td></td>\n",
       "      <td>AA</td>\n",
       "      <td>-0.25</td>\n",
       "      <td>NaN</td>\n",
       "      <td>3.0</td>\n",
       "      <td>1.0</td>\n",
       "      <td>NaN</td>\n",
       "      <td>NaN</td>\n",
       "      <td>1.0</td>\n",
       "    </tr>\n",
       "    <tr>\n",
       "      <th>4</th>\n",
       "      <td>239980196.0</td>\n",
       "      <td>0.0</td>\n",
       "      <td>Syracuse</td>\n",
       "      <td>AA</td>\n",
       "      <td>-0.25</td>\n",
       "      <td>NaN</td>\n",
       "      <td></td>\n",
       "      <td>AA</td>\n",
       "      <td></td>\n",
       "      <td>AA</td>\n",
       "      <td>-0.25</td>\n",
       "      <td>NaN</td>\n",
       "      <td>2.0</td>\n",
       "      <td>3.0</td>\n",
       "      <td>1.0</td>\n",
       "      <td>NaN</td>\n",
       "      <td>4.0</td>\n",
       "    </tr>\n",
       "    <tr>\n",
       "      <th>5</th>\n",
       "      <td>240414854.0</td>\n",
       "      <td>0.0</td>\n",
       "      <td>Syracuse</td>\n",
       "      <td>AA</td>\n",
       "      <td>-0.25</td>\n",
       "      <td>NaN</td>\n",
       "      <td></td>\n",
       "      <td>A</td>\n",
       "      <td>0.0</td>\n",
       "      <td>B</td>\n",
       "      <td>0.33</td>\n",
       "      <td>90.0</td>\n",
       "      <td>NaN</td>\n",
       "      <td>1.0</td>\n",
       "      <td>2.0</td>\n",
       "      <td>NaN</td>\n",
       "      <td>3.0</td>\n",
       "    </tr>\n",
       "    <tr>\n",
       "      <th>6</th>\n",
       "      <td>240158048.0</td>\n",
       "      <td>0.0</td>\n",
       "      <td>Syracuse</td>\n",
       "      <td>AA</td>\n",
       "      <td>-0.25</td>\n",
       "      <td>NaN</td>\n",
       "      <td></td>\n",
       "      <td>A</td>\n",
       "      <td>0.0</td>\n",
       "      <td>B</td>\n",
       "      <td>0.33</td>\n",
       "      <td>95.0</td>\n",
       "      <td>NaN</td>\n",
       "      <td>2.0</td>\n",
       "      <td>2.0</td>\n",
       "      <td>NaN</td>\n",
       "      <td>4.0</td>\n",
       "    </tr>\n",
       "    <tr>\n",
       "      <th>7</th>\n",
       "      <td>240060129.0</td>\n",
       "      <td>0.0</td>\n",
       "      <td>Syracuse</td>\n",
       "      <td>AA</td>\n",
       "      <td>-0.25</td>\n",
       "      <td>NaN</td>\n",
       "      <td></td>\n",
       "      <td>A</td>\n",
       "      <td>0.0</td>\n",
       "      <td>B</td>\n",
       "      <td>0.33</td>\n",
       "      <td>90.0</td>\n",
       "      <td>NaN</td>\n",
       "      <td>2.0</td>\n",
       "      <td>1.0</td>\n",
       "      <td>NaN</td>\n",
       "      <td>3.0</td>\n",
       "    </tr>\n",
       "    <tr>\n",
       "      <th>8</th>\n",
       "      <td>240267807.0</td>\n",
       "      <td>0.0</td>\n",
       "      <td>Syracuse</td>\n",
       "      <td>AA</td>\n",
       "      <td>-0.25</td>\n",
       "      <td>NaN</td>\n",
       "      <td></td>\n",
       "      <td>A</td>\n",
       "      <td>0.0</td>\n",
       "      <td>B</td>\n",
       "      <td>0.33</td>\n",
       "      <td>90.0</td>\n",
       "      <td>NaN</td>\n",
       "      <td>3.0</td>\n",
       "      <td>3.0</td>\n",
       "      <td>NaN</td>\n",
       "      <td>6.0</td>\n",
       "    </tr>\n",
       "    <tr>\n",
       "      <th>9</th>\n",
       "      <td>236665122.0</td>\n",
       "      <td>0.0</td>\n",
       "      <td>Syracuse</td>\n",
       "      <td>AA</td>\n",
       "      <td>-0.25</td>\n",
       "      <td>NaN</td>\n",
       "      <td></td>\n",
       "      <td>A</td>\n",
       "      <td>0.0</td>\n",
       "      <td>B</td>\n",
       "      <td>0.33</td>\n",
       "      <td>90.0</td>\n",
       "      <td>NaN</td>\n",
       "      <td>2.0</td>\n",
       "      <td>1.0</td>\n",
       "      <td>NaN</td>\n",
       "      <td>3.0</td>\n",
       "    </tr>\n",
       "    <tr>\n",
       "      <th>10</th>\n",
       "      <td>239980253.0</td>\n",
       "      <td>0.0</td>\n",
       "      <td>Syracuse</td>\n",
       "      <td>AA</td>\n",
       "      <td>-0.25</td>\n",
       "      <td>NaN</td>\n",
       "      <td></td>\n",
       "      <td>A</td>\n",
       "      <td></td>\n",
       "      <td>B</td>\n",
       "      <td>0.33</td>\n",
       "      <td>95.0</td>\n",
       "      <td>NaN</td>\n",
       "      <td>3.0</td>\n",
       "      <td>1.0</td>\n",
       "      <td>NaN</td>\n",
       "      <td>4.0</td>\n",
       "    </tr>\n",
       "    <tr>\n",
       "      <th>11</th>\n",
       "      <td>240414904.0</td>\n",
       "      <td>0.0</td>\n",
       "      <td>Syracuse</td>\n",
       "      <td>AA</td>\n",
       "      <td>-0.25</td>\n",
       "      <td>NaN</td>\n",
       "      <td></td>\n",
       "      <td>B</td>\n",
       "      <td>0.33</td>\n",
       "      <td>C</td>\n",
       "      <td>0.67</td>\n",
       "      <td>90.0</td>\n",
       "      <td>NaN</td>\n",
       "      <td>1.0</td>\n",
       "      <td>1.0</td>\n",
       "      <td>NaN</td>\n",
       "      <td>2.0</td>\n",
       "    </tr>\n",
       "    <tr>\n",
       "      <th>12</th>\n",
       "      <td>238742233.0</td>\n",
       "      <td>0.0</td>\n",
       "      <td>Syracuse</td>\n",
       "      <td>AA</td>\n",
       "      <td>-0.25</td>\n",
       "      <td>NaN</td>\n",
       "      <td></td>\n",
       "      <td>B</td>\n",
       "      <td>0.33</td>\n",
       "      <td>C</td>\n",
       "      <td>0.67</td>\n",
       "      <td>90.0</td>\n",
       "      <td>NaN</td>\n",
       "      <td>2.0</td>\n",
       "      <td>3.0</td>\n",
       "      <td>NaN</td>\n",
       "      <td>5.0</td>\n",
       "    </tr>\n",
       "    <tr>\n",
       "      <th>13</th>\n",
       "      <td>239352479.0</td>\n",
       "      <td>0.0</td>\n",
       "      <td>Syracuse</td>\n",
       "      <td>AA</td>\n",
       "      <td>-0.25</td>\n",
       "      <td>NaN</td>\n",
       "      <td></td>\n",
       "      <td>B</td>\n",
       "      <td>0.33</td>\n",
       "      <td>C</td>\n",
       "      <td>0.67</td>\n",
       "      <td>90.0</td>\n",
       "      <td>NaN</td>\n",
       "      <td>3.0</td>\n",
       "      <td>1.0</td>\n",
       "      <td>NaN</td>\n",
       "      <td>4.0</td>\n",
       "    </tr>\n",
       "    <tr>\n",
       "      <th>14</th>\n",
       "      <td>239980238.0</td>\n",
       "      <td>0.0</td>\n",
       "      <td>Syracuse</td>\n",
       "      <td>AA</td>\n",
       "      <td>-0.25</td>\n",
       "      <td>NaN</td>\n",
       "      <td></td>\n",
       "      <td>B</td>\n",
       "      <td>0.33</td>\n",
       "      <td>C</td>\n",
       "      <td>0.67</td>\n",
       "      <td>90.0</td>\n",
       "      <td>NaN</td>\n",
       "      <td>2.0</td>\n",
       "      <td>1.0</td>\n",
       "      <td>NaN</td>\n",
       "      <td>3.0</td>\n",
       "    </tr>\n",
       "  </tbody>\n",
       "</table>\n",
       "</div>"
      ],
      "text/plain": [
       "    Student_ Number   Grade_Level  Home_room  BOY Indep Level  \\\n",
       "0        236563003.0           0.0   Syracuse              AA   \n",
       "1        238194344.0           0.0   Syracuse              AA   \n",
       "2        239980246.0           0.0   Syracuse              AA   \n",
       "3        240845834.0           0.0   Syracuse              AA   \n",
       "4        239980196.0           0.0   Syracuse              AA   \n",
       "5        240414854.0           0.0   Syracuse              AA   \n",
       "6        240158048.0           0.0   Syracuse              AA   \n",
       "7        240060129.0           0.0   Syracuse              AA   \n",
       "8        240267807.0           0.0   Syracuse              AA   \n",
       "9        236665122.0           0.0   Syracuse              AA   \n",
       "10       239980253.0           0.0   Syracuse              AA   \n",
       "11       240414904.0           0.0   Syracuse              AA   \n",
       "12       238742233.0           0.0   Syracuse              AA   \n",
       "13       239352479.0           0.0   Syracuse              AA   \n",
       "14       239980238.0           0.0   Syracuse              AA   \n",
       "\n",
       "     Grade Level Equiv  Inst Level  Grade Level Equiv.1 MOY Indep Level  \\\n",
       "0                -0.25         NaN                                   AA   \n",
       "1                -0.25         NaN                                   AA   \n",
       "2                -0.25         NaN                                   AA   \n",
       "3                -0.25         NaN                                   AA   \n",
       "4                -0.25         NaN                                   AA   \n",
       "5                -0.25         NaN                                    A   \n",
       "6                -0.25         NaN                                    A   \n",
       "7                -0.25         NaN                                    A   \n",
       "8                -0.25         NaN                                    A   \n",
       "9                -0.25         NaN                                    A   \n",
       "10               -0.25         NaN                                    A   \n",
       "11               -0.25         NaN                                    B   \n",
       "12               -0.25         NaN                                    B   \n",
       "13               -0.25         NaN                                    B   \n",
       "14               -0.25         NaN                                    B   \n",
       "\n",
       "    Grade Level Equiv.2  Inst Level.1  Grade Level Equiv.3   Accuracy (%)  \\\n",
       "0                 -0.25             A                  0.0           88.0   \n",
       "1                 -0.25             A                  0.0           97.0   \n",
       "2                 -0.25             A                  0.0           33.0   \n",
       "3                                  AA                -0.25            NaN   \n",
       "4                                  AA                -0.25            NaN   \n",
       "5                   0.0             B                 0.33           90.0   \n",
       "6                   0.0             B                 0.33           95.0   \n",
       "7                   0.0             B                 0.33           90.0   \n",
       "8                   0.0             B                 0.33           90.0   \n",
       "9                   0.0             B                 0.33           90.0   \n",
       "10                                  B                 0.33           95.0   \n",
       "11                 0.33             C                 0.67           90.0   \n",
       "12                 0.33             C                 0.67           90.0   \n",
       "13                 0.33             C                 0.67           90.0   \n",
       "14                 0.33             C                 0.67           90.0   \n",
       "\n",
       "     Fluency (0-3)   Comp Within (0-3)   Comp Beyond (0-3)  Comp About  \\\n",
       "0              1.0                 3.0                 2.0         NaN   \n",
       "1              2.0                 2.0                 1.0         NaN   \n",
       "2              2.0                 1.0                 2.0         NaN   \n",
       "3              3.0                 1.0                 NaN         NaN   \n",
       "4              2.0                 3.0                 1.0         NaN   \n",
       "5              NaN                 1.0                 2.0         NaN   \n",
       "6              NaN                 2.0                 2.0         NaN   \n",
       "7              NaN                 2.0                 1.0         NaN   \n",
       "8              NaN                 3.0                 3.0         NaN   \n",
       "9              NaN                 2.0                 1.0         NaN   \n",
       "10             NaN                 3.0                 1.0         NaN   \n",
       "11             NaN                 1.0                 1.0         NaN   \n",
       "12             NaN                 2.0                 3.0         NaN   \n",
       "13             NaN                 3.0                 1.0         NaN   \n",
       "14             NaN                 2.0                 1.0         NaN   \n",
       "\n",
       "     Total Comp  \n",
       "0           5.0  \n",
       "1           3.0  \n",
       "2           3.0  \n",
       "3           1.0  \n",
       "4           4.0  \n",
       "5           3.0  \n",
       "6           4.0  \n",
       "7           3.0  \n",
       "8           6.0  \n",
       "9           3.0  \n",
       "10          4.0  \n",
       "11          2.0  \n",
       "12          5.0  \n",
       "13          4.0  \n",
       "14          3.0  "
      ]
     },
     "execution_count": 3,
     "metadata": {},
     "output_type": "execute_result"
    }
   ],
   "source": [
    "# Combining all student records into a single Data Frame (df), excluding first two summary sheets\n",
    "df = pd.concat(pd.read_excel(xls, sheet_name=xls.sheet_names[2:]), ignore_index=True)\n",
    "print(df.shape)\n",
    "df.head(15)"
   ]
  },
  {
   "cell_type": "code",
   "execution_count": 4,
   "id": "9c06d94b",
   "metadata": {},
   "outputs": [
    {
     "name": "stdout",
     "output_type": "stream",
     "text": [
      "<class 'pandas.core.frame.DataFrame'>\n",
      "RangeIndex: 274 entries, 0 to 273\n",
      "Data columns (total 17 columns):\n",
      " #   Column                Non-Null Count  Dtype  \n",
      "---  ------                --------------  -----  \n",
      " 0   Student_ Number       274 non-null    float64\n",
      " 1   Grade_Level           274 non-null    float64\n",
      " 2   Home_room             274 non-null    object \n",
      " 3   BOY Indep Level       273 non-null    object \n",
      " 4    Grade Level Equiv    259 non-null    float64\n",
      " 5    Inst Level           187 non-null    object \n",
      " 6    Grade Level Equiv.1  274 non-null    object \n",
      " 7   MOY Indep Level       271 non-null    object \n",
      " 8    Grade Level Equiv.2  274 non-null    object \n",
      " 9    Inst Level.1         264 non-null    object \n",
      " 10   Grade Level Equiv.3  254 non-null    object \n",
      " 11   Accuracy (%)         218 non-null    float64\n",
      " 12   Fluency (0-3)        232 non-null    float64\n",
      " 13   Comp Within (0-3)    251 non-null    float64\n",
      " 14   Comp Beyond (0-3)    249 non-null    float64\n",
      " 15   Comp About           132 non-null    object \n",
      " 16   Total Comp           274 non-null    float64\n",
      "dtypes: float64(8), object(9)\n",
      "memory usage: 36.5+ KB\n"
     ]
    }
   ],
   "source": [
    "# previewing df\n",
    "df.info()"
   ]
  },
  {
   "cell_type": "markdown",
   "id": "d0932a66",
   "metadata": {},
   "source": [
    "A couple of noticings:\n",
    "\n",
    "* The column names are inconsistently formatted and need to be cleaned.\n",
    "* Some numerical columns need to be casted as such.\n",
    "* Since the Non-null counts are inconsistent, further investigation is needed."
   ]
  },
  {
   "cell_type": "code",
   "execution_count": 5,
   "id": "10abdc64",
   "metadata": {},
   "outputs": [
    {
     "ename": "AttributeError",
     "evalue": "Can only use .str accessor with string values!",
     "output_type": "error",
     "traceback": [
      "\u001b[0;31m---------------------------------------------------------------------------\u001b[0m",
      "\u001b[0;31mAttributeError\u001b[0m                            Traceback (most recent call last)",
      "\u001b[0;32m/var/folders/h4/btjm2x5d3hg514np5pch3nx40000gn/T/ipykernel_93729/131429796.py\u001b[0m in \u001b[0;36m<module>\u001b[0;34m\u001b[0m\n\u001b[1;32m      6\u001b[0m \u001b[0mcols\u001b[0m \u001b[0;34m=\u001b[0m \u001b[0mdf\u001b[0m\u001b[0;34m.\u001b[0m\u001b[0mcolumns\u001b[0m\u001b[0;34m\u001b[0m\u001b[0;34m\u001b[0m\u001b[0m\n\u001b[1;32m      7\u001b[0m \u001b[0;32mfor\u001b[0m \u001b[0mcol\u001b[0m \u001b[0;32min\u001b[0m \u001b[0mcols\u001b[0m\u001b[0;34m:\u001b[0m\u001b[0;34m\u001b[0m\u001b[0;34m\u001b[0m\u001b[0m\n\u001b[0;32m----> 8\u001b[0;31m     \u001b[0mdf\u001b[0m\u001b[0;34m[\u001b[0m\u001b[0mcol\u001b[0m\u001b[0;34m]\u001b[0m \u001b[0;34m=\u001b[0m \u001b[0mdf\u001b[0m\u001b[0;34m[\u001b[0m\u001b[0mcol\u001b[0m\u001b[0;34m]\u001b[0m\u001b[0;34m.\u001b[0m\u001b[0mstr\u001b[0m\u001b[0;34m.\u001b[0m\u001b[0mstrip\u001b[0m\u001b[0;34m(\u001b[0m\u001b[0;34m)\u001b[0m\u001b[0;34m\u001b[0m\u001b[0;34m\u001b[0m\u001b[0m\n\u001b[0m\u001b[1;32m      9\u001b[0m \u001b[0;34m\u001b[0m\u001b[0m\n\u001b[1;32m     10\u001b[0m \u001b[0;31m# Renaming Student Number & Homeroom\u001b[0m\u001b[0;34m\u001b[0m\u001b[0;34m\u001b[0m\u001b[0;34m\u001b[0m\u001b[0m\n",
      "\u001b[0;32m/opt/anaconda3/lib/python3.8/site-packages/pandas/core/generic.py\u001b[0m in \u001b[0;36m__getattr__\u001b[0;34m(self, name)\u001b[0m\n\u001b[1;32m   5485\u001b[0m         ):\n\u001b[1;32m   5486\u001b[0m             \u001b[0;32mreturn\u001b[0m \u001b[0mself\u001b[0m\u001b[0;34m[\u001b[0m\u001b[0mname\u001b[0m\u001b[0;34m]\u001b[0m\u001b[0;34m\u001b[0m\u001b[0;34m\u001b[0m\u001b[0m\n\u001b[0;32m-> 5487\u001b[0;31m         \u001b[0;32mreturn\u001b[0m \u001b[0mobject\u001b[0m\u001b[0;34m.\u001b[0m\u001b[0m__getattribute__\u001b[0m\u001b[0;34m(\u001b[0m\u001b[0mself\u001b[0m\u001b[0;34m,\u001b[0m \u001b[0mname\u001b[0m\u001b[0;34m)\u001b[0m\u001b[0;34m\u001b[0m\u001b[0;34m\u001b[0m\u001b[0m\n\u001b[0m\u001b[1;32m   5488\u001b[0m \u001b[0;34m\u001b[0m\u001b[0m\n\u001b[1;32m   5489\u001b[0m     \u001b[0;32mdef\u001b[0m \u001b[0m__setattr__\u001b[0m\u001b[0;34m(\u001b[0m\u001b[0mself\u001b[0m\u001b[0;34m,\u001b[0m \u001b[0mname\u001b[0m\u001b[0;34m:\u001b[0m \u001b[0mstr\u001b[0m\u001b[0;34m,\u001b[0m \u001b[0mvalue\u001b[0m\u001b[0;34m)\u001b[0m \u001b[0;34m->\u001b[0m \u001b[0;32mNone\u001b[0m\u001b[0;34m:\u001b[0m\u001b[0;34m\u001b[0m\u001b[0;34m\u001b[0m\u001b[0m\n",
      "\u001b[0;32m/opt/anaconda3/lib/python3.8/site-packages/pandas/core/accessor.py\u001b[0m in \u001b[0;36m__get__\u001b[0;34m(self, obj, cls)\u001b[0m\n\u001b[1;32m    179\u001b[0m             \u001b[0;31m# we're accessing the attribute of the class, i.e., Dataset.geo\u001b[0m\u001b[0;34m\u001b[0m\u001b[0;34m\u001b[0m\u001b[0;34m\u001b[0m\u001b[0m\n\u001b[1;32m    180\u001b[0m             \u001b[0;32mreturn\u001b[0m \u001b[0mself\u001b[0m\u001b[0;34m.\u001b[0m\u001b[0m_accessor\u001b[0m\u001b[0;34m\u001b[0m\u001b[0;34m\u001b[0m\u001b[0m\n\u001b[0;32m--> 181\u001b[0;31m         \u001b[0maccessor_obj\u001b[0m \u001b[0;34m=\u001b[0m \u001b[0mself\u001b[0m\u001b[0;34m.\u001b[0m\u001b[0m_accessor\u001b[0m\u001b[0;34m(\u001b[0m\u001b[0mobj\u001b[0m\u001b[0;34m)\u001b[0m\u001b[0;34m\u001b[0m\u001b[0;34m\u001b[0m\u001b[0m\n\u001b[0m\u001b[1;32m    182\u001b[0m         \u001b[0;31m# Replace the property with the accessor object. Inspired by:\u001b[0m\u001b[0;34m\u001b[0m\u001b[0;34m\u001b[0m\u001b[0;34m\u001b[0m\u001b[0m\n\u001b[1;32m    183\u001b[0m         \u001b[0;31m# https://www.pydanny.com/cached-property.html\u001b[0m\u001b[0;34m\u001b[0m\u001b[0;34m\u001b[0m\u001b[0;34m\u001b[0m\u001b[0m\n",
      "\u001b[0;32m/opt/anaconda3/lib/python3.8/site-packages/pandas/core/strings/accessor.py\u001b[0m in \u001b[0;36m__init__\u001b[0;34m(self, data)\u001b[0m\n\u001b[1;32m    166\u001b[0m         \u001b[0;32mfrom\u001b[0m \u001b[0mpandas\u001b[0m\u001b[0;34m.\u001b[0m\u001b[0mcore\u001b[0m\u001b[0;34m.\u001b[0m\u001b[0marrays\u001b[0m\u001b[0;34m.\u001b[0m\u001b[0mstring_\u001b[0m \u001b[0;32mimport\u001b[0m \u001b[0mStringDtype\u001b[0m\u001b[0;34m\u001b[0m\u001b[0;34m\u001b[0m\u001b[0m\n\u001b[1;32m    167\u001b[0m \u001b[0;34m\u001b[0m\u001b[0m\n\u001b[0;32m--> 168\u001b[0;31m         \u001b[0mself\u001b[0m\u001b[0;34m.\u001b[0m\u001b[0m_inferred_dtype\u001b[0m \u001b[0;34m=\u001b[0m \u001b[0mself\u001b[0m\u001b[0;34m.\u001b[0m\u001b[0m_validate\u001b[0m\u001b[0;34m(\u001b[0m\u001b[0mdata\u001b[0m\u001b[0;34m)\u001b[0m\u001b[0;34m\u001b[0m\u001b[0;34m\u001b[0m\u001b[0m\n\u001b[0m\u001b[1;32m    169\u001b[0m         \u001b[0mself\u001b[0m\u001b[0;34m.\u001b[0m\u001b[0m_is_categorical\u001b[0m \u001b[0;34m=\u001b[0m \u001b[0mis_categorical_dtype\u001b[0m\u001b[0;34m(\u001b[0m\u001b[0mdata\u001b[0m\u001b[0;34m.\u001b[0m\u001b[0mdtype\u001b[0m\u001b[0;34m)\u001b[0m\u001b[0;34m\u001b[0m\u001b[0;34m\u001b[0m\u001b[0m\n\u001b[1;32m    170\u001b[0m         \u001b[0mself\u001b[0m\u001b[0;34m.\u001b[0m\u001b[0m_is_string\u001b[0m \u001b[0;34m=\u001b[0m \u001b[0misinstance\u001b[0m\u001b[0;34m(\u001b[0m\u001b[0mdata\u001b[0m\u001b[0;34m.\u001b[0m\u001b[0mdtype\u001b[0m\u001b[0;34m,\u001b[0m \u001b[0mStringDtype\u001b[0m\u001b[0;34m)\u001b[0m\u001b[0;34m\u001b[0m\u001b[0;34m\u001b[0m\u001b[0m\n",
      "\u001b[0;32m/opt/anaconda3/lib/python3.8/site-packages/pandas/core/strings/accessor.py\u001b[0m in \u001b[0;36m_validate\u001b[0;34m(data)\u001b[0m\n\u001b[1;32m    223\u001b[0m \u001b[0;34m\u001b[0m\u001b[0m\n\u001b[1;32m    224\u001b[0m         \u001b[0;32mif\u001b[0m \u001b[0minferred_dtype\u001b[0m \u001b[0;32mnot\u001b[0m \u001b[0;32min\u001b[0m \u001b[0mallowed_types\u001b[0m\u001b[0;34m:\u001b[0m\u001b[0;34m\u001b[0m\u001b[0;34m\u001b[0m\u001b[0m\n\u001b[0;32m--> 225\u001b[0;31m             \u001b[0;32mraise\u001b[0m \u001b[0mAttributeError\u001b[0m\u001b[0;34m(\u001b[0m\u001b[0;34m\"Can only use .str accessor with string values!\"\u001b[0m\u001b[0;34m)\u001b[0m\u001b[0;34m\u001b[0m\u001b[0;34m\u001b[0m\u001b[0m\n\u001b[0m\u001b[1;32m    226\u001b[0m         \u001b[0;32mreturn\u001b[0m \u001b[0minferred_dtype\u001b[0m\u001b[0;34m\u001b[0m\u001b[0;34m\u001b[0m\u001b[0m\n\u001b[1;32m    227\u001b[0m \u001b[0;34m\u001b[0m\u001b[0m\n",
      "\u001b[0;31mAttributeError\u001b[0m: Can only use .str accessor with string values!"
     ]
    }
   ],
   "source": [
    "# Removing spaces and special characters from column names \n",
    "df.columns = df.columns.str.strip()\n",
    "df.columns = df.columns.str.replace('_',' ')\n",
    "\n",
    "# Removing potential spaces from all records\n",
    "str_cols = ['Home_room','BOY Indep Level', ]\n",
    "for col in str_cols:\n",
    "    df[col] = df[col].str.strip()\n",
    "    \n",
    "# Renaming Student Number & Homeroom\n",
    "df.insert(1,'OSIS', df['Student  Number'])\n",
    "df.insert(2,'Homeroom', df['Home room'])\n",
    "\n",
    "# Creating list of columns to drop\n",
    "drop_cols = ['Home room','Student  Number']\n",
    "\n",
    "# Dropping columns\n",
    "df.drop(drop_cols, axis=1, inplace=True)"
   ]
  },
  {
   "cell_type": "code",
   "execution_count": null,
   "id": "3a0179c2",
   "metadata": {
    "scrolled": true
   },
   "outputs": [],
   "source": [
    "# Renaming columns for easier readibility\n",
    "df.insert(3,'BOY IP Level', df['BOY Indep Level'])\n",
    "df.insert(4,'BOY IP Grade Equiv', df['Grade Level Equiv'])\n",
    "df.insert(5,'BOY Instr Level', df['Inst Level'])\n",
    "df.insert(6,'BOY Instr Grade Equiv', df['Grade Level Equiv.1'])\n",
    "df.insert(7,'MOY IP Level', df['MOY Indep Level'])\n",
    "df.insert(8,'MOY IP Grade Equiv', df['Grade Level Equiv.2'])\n",
    "df.insert(9,'MOY Instr Level', df['Inst Level.1'])\n",
    "df.insert(10,'MOY Instr Grade Equiv', df['Grade Level Equiv.3'])"
   ]
  },
  {
   "cell_type": "code",
   "execution_count": null,
   "id": "4aada5fe",
   "metadata": {},
   "outputs": [],
   "source": [
    "# Dropping columns\n",
    "drop_cols1 = ['BOY Indep Level','Grade Level Equiv','Inst Level','Grade Level Equiv.1','MOY Indep Level',\n",
    "            'Grade Level Equiv.2','Inst Level.1','Grade Level Equiv.3']\n",
    "\n",
    "df.drop(drop_cols1, axis=1, inplace=True)"
   ]
  },
  {
   "cell_type": "code",
   "execution_count": null,
   "id": "03508a6d",
   "metadata": {},
   "outputs": [],
   "source": [
    "# Checking for completion \n",
    "df.info()"
   ]
  },
  {
   "cell_type": "markdown",
   "id": "badbc497",
   "metadata": {},
   "source": [
    "The reading levels are documented in capital letters. As a precaution, I will make all independent and instructional levels capital."
   ]
  },
  {
   "cell_type": "code",
   "execution_count": null,
   "id": "24c60fba",
   "metadata": {},
   "outputs": [],
   "source": [
    "# Capitalizing all reading levels\n",
    "\n",
    "reading_level_cols =  ['BOY IP Level','BOY Instr Level', 'MOY IP Level', 'MOY Instr Level']\n",
    "\n",
    "for col in reading_level_cols:\n",
    "    df[col]=df[col].str.upper()\n",
    "\n",
    "for i, row in df.iterrows():\n",
    "    print(f\"Index: {i}, {row['BOY IP Level']}, {row['MOY IP Level']}\")"
   ]
  },
  {
   "cell_type": "code",
   "execution_count": null,
   "id": "25be6081",
   "metadata": {},
   "outputs": [],
   "source": [
    "# Getting summary of missing values\n",
    "df.isna().sum()"
   ]
  },
  {
   "cell_type": "markdown",
   "id": "7fc49ae2",
   "metadata": {},
   "source": [
    "For BOY and MOY missing data, I will use the key provided with this analysis."
   ]
  },
  {
   "cell_type": "code",
   "execution_count": null,
   "id": "85d04743",
   "metadata": {},
   "outputs": [],
   "source": [
    "# importing BOY info\n",
    "sheet_url = 'https://docs.google.com/spreadsheets/d/1ctQdLgknVDQ5BPCS-O6UihzK5kPbbVwI-svT3cWKWfw/edit#gid=1026408630'\n",
    "url1 = sheet_url.replace('/edit#gid=', '/export?format=csv&gid=')        \n",
    "df_BOY_levels = pd.read_csv(url1, header=1)\n",
    "df_BOY_levels.head(27)"
   ]
  },
  {
   "cell_type": "code",
   "execution_count": null,
   "id": "a37a71c4",
   "metadata": {},
   "outputs": [],
   "source": [
    "# Importing MOY info\n",
    "sheet_url = 'https://docs.google.com/spreadsheets/d/1ctQdLgknVDQ5BPCS-O6UihzK5kPbbVwI-svT3cWKWfw/edit#gid=1314641425'\n",
    "url2 = sheet_url.replace('/edit#gid=', '/export?format=csv&gid=')        \n",
    "df_MOY_levels = pd.read_csv(url2, header=1)\n",
    "df_MOY_levels.head(27)"
   ]
  },
  {
   "cell_type": "markdown",
   "id": "6e6a18ca",
   "metadata": {},
   "source": [
    "BOY and MOY Independent Reading Levels & Grade Equivalents are identical.  I will create a dictionary with these level to assist with missing values."
   ]
  },
  {
   "cell_type": "code",
   "execution_count": null,
   "id": "e445e1ad",
   "metadata": {},
   "outputs": [],
   "source": [
    "# Dictionary \n",
    "alpha_keys = list(df_BOY_levels['Independent Reading Level'].unique())\n",
    "alpha_values = list(df_BOY_levels['Grade Equivalent'].unique())\n",
    "\n",
    "levels = dict(zip(alpha_keys, alpha_values))\n",
    "levels"
   ]
  },
  {
   "cell_type": "code",
   "execution_count": null,
   "id": "ed701872",
   "metadata": {},
   "outputs": [],
   "source": [
    "# Locating records with missing BOY IP level data\n",
    "df.loc[(df['BOY IP Level'].isna())]"
   ]
  },
  {
   "cell_type": "markdown",
   "id": "8be2ff09",
   "metadata": {},
   "source": [
    "This scholar is Swarthmore has data for the MOY assesment, but not the BOY assessment. I will assume this means the student was not assessed at the time. I will replace the BOY records with NE."
   ]
  },
  {
   "cell_type": "code",
   "execution_count": null,
   "id": "cd20cbe9",
   "metadata": {
    "scrolled": true
   },
   "outputs": [],
   "source": [
    "# Addressing missing data for student missing  \n",
    "df['BOY IP Level'].fillna('NE', inplace=True)\n",
    "\n",
    "df.loc[(df['BOY IP Level']=='NE'), 'BOY IP Grade Equiv']='NE'\n",
    "df.loc[(df['BOY IP Level']=='NE'), 'BOY Instr Level']='NE'\n",
    "df.loc[(df['BOY IP Level']=='NE'), 'BOY Instr Grade Equiv']='NE'"
   ]
  },
  {
   "cell_type": "code",
   "execution_count": null,
   "id": "0f961cfe",
   "metadata": {},
   "outputs": [],
   "source": [
    "# Verifying accuracy\n",
    "df.loc[(df['BOY IP Level'].isna())]"
   ]
  },
  {
   "cell_type": "code",
   "execution_count": null,
   "id": "cdad8e62",
   "metadata": {
    "scrolled": true
   },
   "outputs": [],
   "source": [
    "# Locating records with missing BOY Grade Equivalent data\n",
    "print(df.loc[df['BOY IP Grade Equiv'].isna()].shape)\n",
    "df.loc[df['BOY IP Grade Equiv'].isna()]"
   ]
  },
  {
   "cell_type": "markdown",
   "id": "47cc3c6f",
   "metadata": {},
   "source": [
    "Upon further investigation, only one BOY IP Level was included (student with OSIS # 203306691). My assumption is that the other students do not have beginning year data because they were enrolled in school after school had started. I will first address the missing equivalency for the one student with data. Afterwards, I will fill those values with NE for \"Not Enrolled.\" "
   ]
  },
  {
   "cell_type": "code",
   "execution_count": null,
   "id": "5f92d741",
   "metadata": {},
   "outputs": [],
   "source": [
    "# Replacing grade equivalence for level H\n",
    "df.loc[(df['OSIS']==203306691),'BOY IP Grade Equiv']=1.67\n",
    "\n",
    "# Checking to see if change was made.\n",
    "df.loc[df['OSIS']==203306691]"
   ]
  },
  {
   "cell_type": "code",
   "execution_count": null,
   "id": "0bb78042",
   "metadata": {
    "scrolled": true
   },
   "outputs": [],
   "source": [
    "# Locating records with missing BOY Inst Level data\n",
    "df.loc[df['BOY Instr Level'].isna()]"
   ]
  },
  {
   "cell_type": "markdown",
   "id": "0eeb92db",
   "metadata": {},
   "source": [
    "<!-- mini-exploratory\n",
    "The data shows that the instructional level is typically one level above the BOY Indep Level. 5.67 also appears to be highest level, which is equivalent to level U. -->"
   ]
  },
  {
   "cell_type": "code",
   "execution_count": null,
   "id": "f30c2758",
   "metadata": {
    "scrolled": true
   },
   "outputs": [],
   "source": [
    "# Filling Instructional Level given BOY Independent Levels\n",
    "import numpy as np\n",
    "\n",
    "i = 0\n",
    "for i, row in df.iterrows():\n",
    "    for i in range(len(alpha_keys)-1):\n",
    "        if pd.isnull(row['BOY Instr Level']):\n",
    "            for level in alpha_keys:\n",
    "                df.loc[(df['BOY IP Level']==alpha_keys[i]), 'BOY Instr Level']=alpha_keys[i+1]"
   ]
  },
  {
   "cell_type": "code",
   "execution_count": null,
   "id": "a14d55d4",
   "metadata": {},
   "outputs": [],
   "source": [
    "# Checking for accuracy \n",
    "df.loc[df['BOY Instr Level'].isna()]"
   ]
  },
  {
   "cell_type": "code",
   "execution_count": null,
   "id": "fc0f694b",
   "metadata": {},
   "outputs": [],
   "source": [
    "# Spot-checking with previous student\n",
    "df.loc[df['OSIS']==203306691]"
   ]
  },
  {
   "cell_type": "code",
   "execution_count": null,
   "id": "0d817175",
   "metadata": {
    "scrolled": true
   },
   "outputs": [],
   "source": [
    "# Addressing BOY Instructional Level since all were missing, no conditionals were used.\n",
    "\n",
    "i = 0\n",
    "for level, equiv in levels.items():\n",
    "    df.loc[(df['BOY Instr Level']==level), 'BOY Instr Grade Equiv'] = equiv\n",
    "    \n",
    "# Checking for accuracy    \n",
    "df.tail(25)"
   ]
  },
  {
   "cell_type": "code",
   "execution_count": null,
   "id": "f97371b4",
   "metadata": {},
   "outputs": [],
   "source": [
    "# Verifying there are no records with missing BOY Instr Grade Equiv\n",
    "df.loc[df['BOY Instr Level'].isna()]"
   ]
  },
  {
   "cell_type": "code",
   "execution_count": null,
   "id": "aa52516e",
   "metadata": {},
   "outputs": [],
   "source": [
    "# Completing cleaning process for MOY Data"
   ]
  },
  {
   "cell_type": "code",
   "execution_count": null,
   "id": "6ab8c0dc",
   "metadata": {},
   "outputs": [],
   "source": [
    "# Locating records with missing MOY Indepent Level data\n",
    "df.loc[df['MOY IP Level'].isna()]"
   ]
  },
  {
   "cell_type": "markdown",
   "id": "ec9dfe49",
   "metadata": {},
   "source": [
    "There are 3 students with missing MOY IP Level, but there is an instructional level. The instructional level for the BOY was one level above the student's IP BOY level. I will assume that is the same for the MOY Independent Levels, which will be filled using their MOY instructional levels."
   ]
  },
  {
   "cell_type": "code",
   "execution_count": null,
   "id": "9e7110a2",
   "metadata": {},
   "outputs": [],
   "source": [
    "# Filling MOY Independent Levels given Instructional Level\n",
    "i = 1\n",
    "for i in range(len(alpha_keys)-1):\n",
    "    if (df['MOY IP Level'].isna().any()):\n",
    "        for level in alpha_keys:\n",
    "            df.loc[(df['MOY Instr Level']==alpha_keys[i]), 'MOY IP Level']=alpha_keys[i-1]\n",
    "            i=+1"
   ]
  },
  {
   "cell_type": "code",
   "execution_count": null,
   "id": "2cbdfe77",
   "metadata": {},
   "outputs": [],
   "source": [
    "# Checking for accuracy    \n",
    "df.loc[df['OSIS']==234033942]\n",
    "df.loc[df['OSIS']==203306691]"
   ]
  },
  {
   "cell_type": "code",
   "execution_count": null,
   "id": "1d27424c",
   "metadata": {},
   "outputs": [],
   "source": [
    "df['MOY IP Level'].notnull().shape"
   ]
  },
  {
   "cell_type": "markdown",
   "id": "a2c74186",
   "metadata": {},
   "source": [
    "We now have 274 complete MOY Independent Levels. I will move on to investigate other columns."
   ]
  },
  {
   "cell_type": "code",
   "execution_count": null,
   "id": "12876020",
   "metadata": {},
   "outputs": [],
   "source": [
    "# Locating records with missing MOY data\n",
    "print(df.loc[df['MOY IP Grade Equiv'].isna()].shape)\n",
    "df.loc[df['MOY IP Grade Equiv']==\" \"]"
   ]
  },
  {
   "cell_type": "code",
   "execution_count": null,
   "id": "caa854a0",
   "metadata": {},
   "outputs": [],
   "source": [
    "df.loc[df['Grade Level Equiv.2'].isna()]"
   ]
  },
  {
   "cell_type": "code",
   "execution_count": null,
   "id": "813b32dd",
   "metadata": {},
   "outputs": [],
   "source": [
    "df.loc[df['Grade Level Equiv.2'].isna()].shape"
   ]
  },
  {
   "cell_type": "code",
   "execution_count": null,
   "id": "dd90fa41",
   "metadata": {},
   "outputs": [],
   "source": [
    "# Addressing Grade Level Equiv.2 for Instructional Level\n",
    "for level, equiv in levels.items():\n",
    "    df.loc[(df['MOY Indep Level']==level), 'Grade Level Equiv.2'] = equiv\n",
    "    \n",
    "# Checking for accuracy    \n",
    "df.loc[df['Grade Level Equiv.2'].isna()].shape"
   ]
  },
  {
   "cell_type": "code",
   "execution_count": null,
   "id": "c62ea3d6",
   "metadata": {},
   "outputs": [],
   "source": [
    "# Double checking NE students.\n",
    "\n",
    "df.loc[df['BOY Indep Level']==\"NE\"]"
   ]
  },
  {
   "cell_type": "code",
   "execution_count": null,
   "id": "5c81e592",
   "metadata": {},
   "outputs": [],
   "source": [
    "df.dropna(subset=['Grade Level Equiv.2'], inplace=True)\n",
    "\n",
    "# Checking for accuracy\n",
    "df.shape"
   ]
  },
  {
   "cell_type": "code",
   "execution_count": null,
   "id": "f45ae39a",
   "metadata": {},
   "outputs": [],
   "source": [
    "# Checking for accuracy    \n",
    "df.loc[df['Grade Level Equiv.2'].isna()].shape"
   ]
  },
  {
   "cell_type": "code",
   "execution_count": null,
   "id": "eed795bd",
   "metadata": {},
   "outputs": [],
   "source": [
    "df.shape"
   ]
  },
  {
   "cell_type": "code",
   "execution_count": null,
   "id": "225d07d5",
   "metadata": {},
   "outputs": [],
   "source": [
    "# Next column: Instructional Level.\n",
    "df.loc[df['Inst Level.1'].isna()].shape"
   ]
  },
  {
   "cell_type": "code",
   "execution_count": null,
   "id": "b2d5c546",
   "metadata": {},
   "outputs": [],
   "source": [
    "# Investigating 10 missing records.\n",
    "df.loc[df['Inst Level.1'].isna()]"
   ]
  },
  {
   "cell_type": "code",
   "execution_count": null,
   "id": "471d7149",
   "metadata": {
    "scrolled": true
   },
   "outputs": [],
   "source": [
    "# Filling MOY Instructional Level given MOY Independent Levels\n",
    "i = 0\n",
    "for i in range(len(alpha_keys)-1):\n",
    "    for level in alpha_keys:\n",
    "        df.loc[(df['MOY Indep Level']==alpha_keys[i]), 'Inst Level.1']=alpha_keys[i+1]\n",
    "        i=+1\n",
    "\n",
    "# Checking for completeness\n",
    "df.loc[df['Inst Level.1'].isna()]"
   ]
  },
  {
   "cell_type": "code",
   "execution_count": null,
   "id": "69ed81d7",
   "metadata": {},
   "outputs": [],
   "source": [
    "# Filling Grade Level Equiv.3 given Instructional Levels\n",
    "i = 0\n",
    "for level, equiv in levels.items():\n",
    "    df.loc[(df['Inst Level.1']==level), 'Grade Level Equiv.3'] = equiv\n",
    "    \n",
    "# Checking for completeness\n",
    "df.loc[df['Grade Level Equiv.3'].isna()]"
   ]
  },
  {
   "cell_type": "markdown",
   "id": "ba9390f1",
   "metadata": {},
   "source": [
    "The data shows that students missing MOY data also were students who are also missing in the BOY. My assumption is that these students were registered, but didnot attend the school. I will drop these records from the data frame."
   ]
  },
  {
   "cell_type": "code",
   "execution_count": null,
   "id": "e771016f",
   "metadata": {},
   "outputs": [],
   "source": [
    "df.dropna(subset=['Grade Level Equiv.3'], inplace=True)"
   ]
  },
  {
   "cell_type": "code",
   "execution_count": null,
   "id": "c8dec11d",
   "metadata": {},
   "outputs": [],
   "source": [
    "df['Grade Level Equiv.3'].isna().sum()"
   ]
  },
  {
   "cell_type": "code",
   "execution_count": null,
   "id": "6540e826",
   "metadata": {
    "scrolled": false
   },
   "outputs": [],
   "source": [
    "df.info()"
   ]
  },
  {
   "cell_type": "code",
   "execution_count": null,
   "id": "a97dcde9",
   "metadata": {},
   "outputs": [],
   "source": [
    "# Removing students NE and blank MOY.\n"
   ]
  },
  {
   "cell_type": "markdown",
   "id": "5f39a4a8",
   "metadata": {},
   "source": [
    "This first grader's BOY Independent Level was A and MOY Independent Level was Z. Such a high jump is highly unlikely. An investigation into these outliers are required."
   ]
  },
  {
   "cell_type": "code",
   "execution_count": null,
   "id": "9eeb98d4",
   "metadata": {},
   "outputs": [],
   "source": [
    "# Changing data to numerical type\n",
    "df[['Grade Level Equiv','Grade Level Equiv.1','Grade Level Equiv.2','Grade Level Equiv.3']] = df[['Grade Level Equiv','Grade Level Equiv.1','Grade Level Equiv.2','Grade Level Equiv.3']].apply(pd.to_numeric, errors='coerce')"
   ]
  },
  {
   "cell_type": "code",
   "execution_count": null,
   "id": "c4564a20",
   "metadata": {},
   "outputs": [],
   "source": [
    "# Investigating Outliers by creating a column showing the difference between BOY and MOY levels.\n",
    "df.isna().sum()\n",
    "df['BOY-MOY Growth'] = abs(df['Grade Level Equiv.2'] - df['Grade Level Equiv'])\n",
    "df['BOY-MOY Growth']"
   ]
  },
  {
   "cell_type": "markdown",
   "id": "149206dd",
   "metadata": {},
   "source": [
    "Since this analysis compares student's reading levels from the beginning of the school to the middle of school year, I expect to see a few cases of regression, no growth, and atleast a half a year of growth in reading levels. According to F&P Instructional Level Expectations for Reading, students can grow 3-4 levels within a school year. For example, a first grader is expected to enter the grade reading on level E or above and be on level K or above by the end of the school year. For this part of the analysis, I will isolate students who grew more than two grade levels and investigate their growth."
   ]
  },
  {
   "cell_type": "code",
   "execution_count": null,
   "id": "50393617",
   "metadata": {},
   "outputs": [],
   "source": [
    "for i, row in df.iterrows():\n",
    "    print(f\"Index: {i}, {row['BOY Indep Level']}\")"
   ]
  },
  {
   "cell_type": "code",
   "execution_count": null,
   "id": "f001c9a3",
   "metadata": {},
   "outputs": [],
   "source": [
    "for i, row in df.iterrows():\n",
    "    print(f\"Index: {i}, {row['BOY Indep Level']}, {row['MOY Indep Level']}\")"
   ]
  }
 ],
 "metadata": {
  "kernelspec": {
   "display_name": "Python 3 (ipykernel)",
   "language": "python",
   "name": "python3"
  },
  "language_info": {
   "codemirror_mode": {
    "name": "ipython",
    "version": 3
   },
   "file_extension": ".py",
   "mimetype": "text/x-python",
   "name": "python",
   "nbconvert_exporter": "python",
   "pygments_lexer": "ipython3",
   "version": "3.8.12"
  }
 },
 "nbformat": 4,
 "nbformat_minor": 5
}
