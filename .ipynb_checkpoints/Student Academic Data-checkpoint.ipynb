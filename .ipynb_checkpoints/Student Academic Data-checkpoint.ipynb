{
 "cells": [
  {
   "cell_type": "code",
   "execution_count": 2,
   "id": "e71483dc",
   "metadata": {},
   "outputs": [],
   "source": [
    "# importing pandas as pd\n",
    "import pandas as pd"
   ]
  },
  {
   "cell_type": "code",
   "execution_count": 3,
   "id": "5b575814",
   "metadata": {},
   "outputs": [
    {
     "data": {
      "text/plain": [
       "['RH K-4 MOY Data',\n",
       " 'MOY Export',\n",
       " 'Syracuse',\n",
       " 'Howard',\n",
       " 'Swarthmore',\n",
       " 'Spelman',\n",
       " 'Williams',\n",
       " 'Brooklyn',\n",
       " 'Tuskegee',\n",
       " 'Northwestern',\n",
       " 'Georgetown',\n",
       " 'Wisconsin']"
      ]
     },
     "execution_count": 3,
     "metadata": {},
     "output_type": "execute_result"
    }
   ],
   "source": [
    "xls = pd.ExcelFile('Data.xlsx')\n",
    "# preview of sheet names.\n",
    "xls.sheet_names"
   ]
  },
  {
   "cell_type": "code",
   "execution_count": 5,
   "id": "d444a231",
   "metadata": {},
   "outputs": [
    {
     "data": {
      "text/plain": [
       "(274, 17)"
      ]
     },
     "execution_count": 5,
     "metadata": {},
     "output_type": "execute_result"
    }
   ],
   "source": [
    "# combining different sheets into one df\n",
    "\n",
    "df = pd.concat(pd.read_excel(xls, sheet_name=xls.sheet_names[2:]), ignore_index=True)\n",
    "df.shape"
   ]
  },
  {
   "cell_type": "code",
   "execution_count": 6,
   "id": "9c06d94b",
   "metadata": {},
   "outputs": [
    {
     "name": "stdout",
     "output_type": "stream",
     "text": [
      "<class 'pandas.core.frame.DataFrame'>\n",
      "RangeIndex: 274 entries, 0 to 273\n",
      "Data columns (total 17 columns):\n",
      " #   Column                Non-Null Count  Dtype  \n",
      "---  ------                --------------  -----  \n",
      " 0   Student_ Number       274 non-null    float64\n",
      " 1   Grade_Level           274 non-null    float64\n",
      " 2   Home_room             274 non-null    object \n",
      " 3   BOY Indep Level       273 non-null    object \n",
      " 4    Grade Level Equiv    259 non-null    float64\n",
      " 5    Inst Level           187 non-null    object \n",
      " 6    Grade Level Equiv.1  274 non-null    object \n",
      " 7   MOY Indep Level       271 non-null    object \n",
      " 8    Grade Level Equiv.2  274 non-null    object \n",
      " 9    Inst Level.1         264 non-null    object \n",
      " 10   Grade Level Equiv.3  254 non-null    object \n",
      " 11   Accuracy (%)         218 non-null    float64\n",
      " 12   Fluency (0-3)        232 non-null    float64\n",
      " 13   Comp Within (0-3)    251 non-null    float64\n",
      " 14   Comp Beyond (0-3)    249 non-null    float64\n",
      " 15   Comp About           132 non-null    object \n",
      " 16   Total Comp           274 non-null    float64\n",
      "dtypes: float64(8), object(9)\n",
      "memory usage: 36.5+ KB\n"
     ]
    }
   ],
   "source": [
    "# previewing df\n",
    "df.info()"
   ]
  },
  {
   "cell_type": "markdown",
   "id": "d0932a66",
   "metadata": {},
   "source": [
    "Since the Non-null values are not consistent, further investigation is needed."
   ]
  },
  {
   "cell_type": "code",
   "execution_count": 9,
   "id": "10abdc64",
   "metadata": {},
   "outputs": [],
   "source": [
    "# removing spaces and special characters from column names \n",
    "df.columns = df.columns.str.strip()\n",
    "df.columns = df.columns.str.replace('_',' ')"
   ]
  },
  {
   "cell_type": "code",
   "execution_count": 10,
   "id": "03508a6d",
   "metadata": {},
   "outputs": [
    {
     "name": "stdout",
     "output_type": "stream",
     "text": [
      "<class 'pandas.core.frame.DataFrame'>\n",
      "RangeIndex: 274 entries, 0 to 273\n",
      "Data columns (total 17 columns):\n",
      " #   Column               Non-Null Count  Dtype  \n",
      "---  ------               --------------  -----  \n",
      " 0   Student  Number      274 non-null    float64\n",
      " 1   Grade Level          274 non-null    float64\n",
      " 2   Home room            274 non-null    object \n",
      " 3   BOY Indep Level      273 non-null    object \n",
      " 4   Grade Level Equiv    259 non-null    float64\n",
      " 5   Inst Level           187 non-null    object \n",
      " 6   Grade Level Equiv.1  274 non-null    object \n",
      " 7   MOY Indep Level      271 non-null    object \n",
      " 8   Grade Level Equiv.2  274 non-null    object \n",
      " 9   Inst Level.1         264 non-null    object \n",
      " 10  Grade Level Equiv.3  254 non-null    object \n",
      " 11  Accuracy (%)         218 non-null    float64\n",
      " 12  Fluency (0-3)        232 non-null    float64\n",
      " 13  Comp Within (0-3)    251 non-null    float64\n",
      " 14  Comp Beyond (0-3)    249 non-null    float64\n",
      " 15  Comp About           132 non-null    object \n",
      " 16  Total Comp           274 non-null    float64\n",
      "dtypes: float64(8), object(9)\n",
      "memory usage: 36.5+ KB\n"
     ]
    }
   ],
   "source": [
    "df.info()"
   ]
  },
  {
   "cell_type": "code",
   "execution_count": null,
   "id": "71674f68",
   "metadata": {},
   "outputs": [],
   "source": []
  }
 ],
 "metadata": {
  "kernelspec": {
   "display_name": "Python 3 (ipykernel)",
   "language": "python",
   "name": "python3"
  },
  "language_info": {
   "codemirror_mode": {
    "name": "ipython",
    "version": 3
   },
   "file_extension": ".py",
   "mimetype": "text/x-python",
   "name": "python",
   "nbconvert_exporter": "python",
   "pygments_lexer": "ipython3",
   "version": "3.8.12"
  }
 },
 "nbformat": 4,
 "nbformat_minor": 5
}
